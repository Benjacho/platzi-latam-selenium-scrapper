{
 "cells": [
  {
   "cell_type": "code",
   "execution_count": 72,
   "metadata": {
    "tags": []
   },
   "outputs": [],
   "source": [
    "from selenium import webdriver\n",
    "url = 'https://www.latam.com/es_pe/apps/personas/booking?fecha1_dia=12&fecha1_anomes=2020-10&from_city1=LIM&to_city1=SCL&ida_vuelta=ida_vuelta&fecha2_dia=19&fecha2_anomes=2020-10&from_city2=SCL&to_city2=LIM&cabina=Y&nadults=1&nchildren=0&ninfants=0&app=deal-finder#/'"
   ]
  },
  {
   "cell_type": "code",
   "execution_count": 85,
   "metadata": {},
   "outputs": [],
   "source": [
    "from selenium.webdriver.support.ui import WebDriverWait\n",
    "from selenium.webdriver.support import expected_conditions\n",
    "from selenium.webdriver.common.by import By\n",
    "from selenium.common.exceptions import TimeoutException\n",
    "import time"
   ]
  },
  {
   "cell_type": "code",
   "execution_count": 77,
   "metadata": {},
   "outputs": [],
   "source": [
    "def getBasicTravelInfo(travel):\n",
    "    departure = travel.find_element_by_xpath('.//div[@class=\"departure\"]/time').get_attribute('datetime')\n",
    "    arrival = travel.find_element_by_xpath('.//div[@class=\"arrival\"]/time').get_attribute('datetime')\n",
    "    duration = travel.find_element_by_xpath('.//span[@class=\"duration\"]/time').text\n",
    "    return {'departure': departure,\n",
    "            'arrival': arrival,\n",
    "            'duration': duration\n",
    "            }\n"
   ]
  },
  {
   "cell_type": "code",
   "execution_count": 78,
   "metadata": {
    "tags": []
   },
   "outputs": [],
   "source": [
    "def clickButtonEscalas(travel):\n",
    "    button=travel.find_element_by_xpath('.//div[@class=\"flight-summary-stops-description\"]/button')\n",
    "    button.click()\n"
   ]
  },
  {
   "cell_type": "code",
   "execution_count": 79,
   "metadata": {
    "tags": []
   },
   "outputs": [],
   "source": [
    "def getItinerary(driver):\n",
    "    itinerary = {}\n",
    "    itinerario = driver.find_element_by_xpath('//div[@class=\"sc-hZSUBg gfeULV\"]')\n",
    "    horarios = itinerario.find_elements_by_xpath('//div[@class=\"sc-cLQEGU hyoued\"]')\n",
    "    for index,horario in enumerate(horarios):\n",
    "        departure_airport = horario.find_elements_by_xpath('.//abbr[@class=\"sc-hrWEMg hlCkST\"]')[0].text\n",
    "        departure_time = horario.find_elements_by_xpath('.//time[@class=\"sc-RefOD libzvk\"]')[0].get_attribute('datetime')\n",
    "        departure_airport_full_name = horario.find_elements_by_xpath('.//span[@class=\"sc-hXRMBi gVvErD\"]')[0].text\n",
    "        arrival_airport = horario.find_elements_by_xpath('.//abbr[@class=\"sc-hrWEMg hlCkST\"]')[1].text\n",
    "        arrival_time = horario.find_elements_by_xpath('.//time[@class=\"sc-RefOD libzvk\"]')[1].get_attribute('datetime')\n",
    "        arrival_airport_full_name = horario.find_elements_by_xpath('.//span[@class=\"sc-hXRMBi gVvErD\"]')[1].text\n",
    "        flight_time = horario.find_element_by_xpath('.//div[@class=\"sc-eXEjpC fqUnRK\"]/span/time').get_attribute('datetime')\n",
    "        ariplane_model = horario.find_element_by_xpath('.//span[@class=\"sc-gzOgki uTyOl\"]').text\n",
    "        itinerary[index + 1] = {\n",
    "            'departure_airport' : departure_airport,\n",
    "            'departure_time' : departure_time,\n",
    "            'departure_airport_full_name' : departure_airport_full_name,\n",
    "            'arrival_airport': arrival_airport,\n",
    "            'arrival_time': arrival_time,\n",
    "            'arrival_airport_full_name': arrival_airport_full_name,\n",
    "            'flight_time': flight_time,\n",
    "            'airplane_model': ariplane_model,\n",
    "            }\n",
    "\n",
    "    return itinerary"
   ]
  },
  {
   "cell_type": "code",
   "execution_count": 80,
   "metadata": {},
   "outputs": [],
   "source": [
    "def closeModal(driver):\n",
    "    close_button = driver.find_element_by_xpath('//div[@class=\"modal-header sc-dnqmqq cGfTsx\"]/button')\n",
    "    close_button.click()"
   ]
  },
  {
   "cell_type": "code",
   "execution_count": 81,
   "metadata": {},
   "outputs": [],
   "source": [
    "def clickOnFlight(flight):\n",
    "    flight.click()"
   ]
  },
  {
   "cell_type": "code",
   "execution_count": 83,
   "metadata": {
    "tags": []
   },
   "outputs": [],
   "source": [
    "def getPrices(flight):\n",
    "    rates_elements = flight.find_elements_by_xpath('.//div[@class=\"fares-table-container\"]//tfoot//td[contains(@class, \"fare-\")]')\n",
    "    rates = []\n",
    "    for rate_element in rates_elements:\n",
    "        rate_name = rate_element.find_element_by_xpath('.//input[@name=\"selected-fare\"]').get_attribute('id')\n",
    "        money_symbol = rate_element.find_element_by_xpath('.//span[@class=\"currency-symbol\"]').text\n",
    "        value = rate_element.find_element_by_xpath('.//span[@class=\"value\"]/span').text\n",
    "        rates.append({rate_name: \n",
    "            {\n",
    "                'money_symbol': money_symbol,\n",
    "                'value': value\n",
    "            }\n",
    "        })\n",
    "    return rates"
   ]
  },
  {
   "cell_type": "code",
   "execution_count": null,
   "metadata": {},
   "outputs": [],
   "source": []
  },
  {
   "cell_type": "code",
   "execution_count": 88,
   "metadata": {},
   "outputs": [],
   "source": [
    "def get_info(driver):\n",
    "    vuelos = driver.find_elements_by_xpath('//li[@class=\"flight\"]')\n",
    "    print(f'Se encontraron {len(vuelos)} vuelos.')\n",
    "    info = []\n",
    "    #removeremos la notificacion\n",
    "    try:\n",
    "        notification = WebDriverWait(driver, 10).until(expected_conditions.presence_of_element_located((By.XPATH, '//div[@id=\"onesignal-slidedown-container\"]')))\n",
    "        if(notification):\n",
    "            no_notification_button = driver.find_element_by_xpath('//button[@id=\"onesignal-slidedown-cancel-button\"]')\n",
    "            no_notification_button.click()\n",
    "        print('Cerramos la notificacion')\n",
    "    except TimeoutException:\n",
    "        print('La notificacion demoro en salir, procederemos')\n",
    "\n",
    "    #removeremos el modal\n",
    "    try:\n",
    "        modal = WebDriverWait(driver, 10).until(expected_conditions.presence_of_element_located((By.XPATH, '//div[@class=\"lightbox-overlay is-active\"]')))\n",
    "        if(modal):\n",
    "            close_modal_button = driver.find_element_by_xpath('//div[@class=\"lightbox-top\"]/span') #usan un span para el boton\n",
    "            close_modal_button.click()\n",
    "        print('Cerramos la notificacion')\n",
    "    except TimeoutException:\n",
    "        print('El modal demoro o no salio, procedemos')\n",
    "    for vuelo in vuelos:\n",
    "        tiempos = getBasicTravelInfo(vuelo)\n",
    "        clickButtonEscalas(vuelo)\n",
    "        escalas = getItinerary(driver)\n",
    "        closeModal(driver)\n",
    "        clickOnFlight(vuelo) #Opens to get escalas\n",
    "        precios = getPrices(vuelo)\n",
    "        clickOnFlight(vuelo) #Closes to proceed\n",
    "        info.append({\n",
    "            'precios': precios,\n",
    "            'tiempos': tiempos,\n",
    "            'escalas': escalas\n",
    "        })\n",
    "\n",
    "    return info\n"
   ]
  },
  {
   "cell_type": "code",
   "execution_count": null,
   "metadata": {},
   "outputs": [],
   "source": []
  },
  {
   "cell_type": "code",
   "execution_count": 91,
   "metadata": {
    "tags": []
   },
   "outputs": [
    {
     "output_type": "stream",
     "name": "stdout",
     "text": "La pagina termino de cargar\nSe encontraron 2 vuelos.\nCerramos la notificacion\nEl modal demoro o no salio, procedemos\n"
    }
   ],
   "source": [
    "options = webdriver.ChromeOptions()\n",
    "options.add_argument('--incognito')\n",
    "driver = webdriver.Chrome(executable_path='./chromedriver', options=options)\n",
    "driver.get(url)\n",
    "# Introducir una demora\n",
    "delay = 10\n",
    "try:\n",
    "    vuelo = WebDriverWait(driver, delay).until(expected_conditions.presence_of_element_located((By.XPATH, '//li[@class=\"flight\"]')))\n",
    "    print('La pagina termino de cargar')\n",
    "    info_vuelos = get_info(driver)\n",
    "except TimeoutException:\n",
    "    print('La pagina tardo demasiado en cargar')\n",
    "\n",
    "driver.close()"
   ]
  },
  {
   "cell_type": "code",
   "execution_count": 90,
   "metadata": {},
   "outputs": [
    {
     "output_type": "execute_result",
     "data": {
      "text/plain": "[{&#39;precios&#39;: [{&#39;BASIC&#39;: {&#39;money_symbol&#39;: &#39;&#39;, &#39;value&#39;: &#39;&#39;}},\n   {&#39;LIGHT&#39;: {&#39;money_symbol&#39;: &#39;&#39;, &#39;value&#39;: &#39;&#39;}},\n   {&#39;PLUS&#39;: {&#39;money_symbol&#39;: &#39;&#39;, &#39;value&#39;: &#39;127&#39;}},\n   {&#39;TOP&#39;: {&#39;money_symbol&#39;: &#39;US$&#39;, &#39;value&#39;: &#39;165&#39;}}],\n  &#39;tiempos&#39;: {&#39;departure&#39;: &#39;18:00&#39;,\n   &#39;arrival&#39;: &#39;23:34&#39;,\n   &#39;duration&#39;: &#39;3h 34min&#39;},\n  &#39;escalas&#39;: {1: {&#39;departure_airport&#39;: &#39;LIM&#39;,\n    &#39;departure_time&#39;: &#39;18:00&#39;,\n    &#39;departure_airport_full_name&#39;: &#39;J Chávez Intl.&#39;,\n    &#39;arrival_airport&#39;: &#39;SCL&#39;,\n    &#39;arrival_time&#39;: &#39;23:34&#39;,\n    &#39;arrival_airport_full_name&#39;: &#39;A. Merino Benítez Intl.&#39;,\n    &#39;flight_time&#39;: &#39;3:34&#39;,\n    &#39;airplane_model&#39;: &#39;Airbus 320-200&#39;}}},\n {&#39;precios&#39;: [{&#39;BASIC&#39;: {&#39;money_symbol&#39;: &#39;&#39;, &#39;value&#39;: &#39;&#39;}},\n   {&#39;LIGHT&#39;: {&#39;money_symbol&#39;: &#39;&#39;, &#39;value&#39;: &#39;&#39;}},\n   {&#39;PLUS&#39;: {&#39;money_symbol&#39;: &#39;&#39;, &#39;value&#39;: &#39;&#39;}},\n   {&#39;TOP&#39;: {&#39;money_symbol&#39;: &#39;&#39;, &#39;value&#39;: &#39;203&#39;}}],\n  &#39;tiempos&#39;: {&#39;departure&#39;: &#39;00:45&#39;,\n   &#39;arrival&#39;: &#39;06:25&#39;,\n   &#39;duration&#39;: &#39;3h 40min&#39;},\n  &#39;escalas&#39;: {1: {&#39;departure_airport&#39;: &#39;LIM&#39;,\n    &#39;departure_time&#39;: &#39;00:45&#39;,\n    &#39;departure_airport_full_name&#39;: &#39;J Chávez Intl.&#39;,\n    &#39;arrival_airport&#39;: &#39;SCL&#39;,\n    &#39;arrival_time&#39;: &#39;06:25&#39;,\n    &#39;arrival_airport_full_name&#39;: &#39;A. Merino Benítez Intl.&#39;,\n    &#39;flight_time&#39;: &#39;3:40&#39;,\n    &#39;airplane_model&#39;: &#39;Airbus 320-200&#39;}}}]"
     },
     "metadata": {},
     "execution_count": 90
    }
   ],
   "source": [
    "info_vuelos\n"
   ]
  }
 ],
 "metadata": {
  "language_info": {
   "codemirror_mode": {
    "name": "ipython",
    "version": 3
   },
   "file_extension": ".py",
   "mimetype": "text/x-python",
   "name": "python",
   "nbconvert_exporter": "python",
   "pygments_lexer": "ipython3",
   "version": "3.8.2-final"
  },
  "orig_nbformat": 2,
  "kernelspec": {
   "name": "Python 3.8.2 64-bit ('env')",
   "display_name": "Python 3.8.2 64-bit ('env')",
   "metadata": {
    "interpreter": {
     "hash": "9d893d16aae3acca8c38a7983ff862f3188a69d97c74f15d407ee578fcbe6319"
    }
   }
  }
 },
 "nbformat": 4,
 "nbformat_minor": 2
}